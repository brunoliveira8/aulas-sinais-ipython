{
 "cells": [
  {
   "cell_type": "markdown",
   "metadata": {},
   "source": [
    "#Processamento de Audio usando Scipy\n",
    "\n",
    "Nessa aula iremos demonstrar os efeitos do escalonamento no tempo e em amplitude a sinais de áudio. Além disso, iremos falar sobre a relação tempo e frequência. \n",
    "\n",
    "Nessa práticas usaremos as bibliotecas Numpy, Scipy.io e Matplotlib.pyplot. Primeiramente, precisamos importá-las."
   ]
  },
  {
   "cell_type": "code",
   "execution_count": 1,
   "metadata": {
    "collapsed": false
   },
   "outputs": [
    {
     "name": "stdout",
     "output_type": "stream",
     "text": [
      "Once deleted, variables cannot be recovered. Proceed (y/[n])? y\n",
      "Populating the interactive namespace from numpy and matplotlib\n"
     ]
    }
   ],
   "source": [
    "%reset\n",
    "%pylab inline\n",
    "import numpy as np\n",
    "from scipy.io import wavfile\n",
    "import matplotlib.pyplot as plt"
   ]
  },
  {
   "cell_type": "markdown",
   "metadata": {},
   "source": [
    "Agora iremos ler o arquivo de áudio usando a função wavfile.read(<i>filename</i>) da biblioteca scipy.io."
   ]
  },
  {
   "cell_type": "code",
   "execution_count": 2,
   "metadata": {
    "collapsed": false
   },
   "outputs": [
    {
     "name": "stdout",
     "output_type": "stream",
     "text": [
      "Formato das amostras:  (9627263, 2)\n",
      "Frequencia:  44100\n"
     ]
    }
   ],
   "source": [
    "#a função retorna a frequencia e as amostras do sinal de audio\n",
    "fs, samples = wavfile.read('Superman.wav')\n",
    "\n",
    "\n",
    "print \"Formato das amostras: \", samples.shape\n",
    "print \"Frequencia: \", fs"
   ]
  },
  {
   "cell_type": "markdown",
   "metadata": {},
   "source": [
    "samples é um array numpy composto de duas colunas pois cada uma representa um canal de áudio. Se o áudio fosse mono, só teríamos uma coluna."
   ]
  },
  {
   "cell_type": "markdown",
   "metadata": {},
   "source": [
    "## Diminuindo a velocidade de reprodução do áudio.\n",
    "\n",
    "Para diminuirmos a velocidade de reprodução, nós precisamos dividir a frequência por um inteiro. No nosso caso, iremos dividir a velocidade de reprodução ao meio. Para isso, usaremos a função wavfile.write(nome do arquivo, frequencia, amostras) da biblioteca scipy.io."
   ]
  },
  {
   "cell_type": "code",
   "execution_count": 3,
   "metadata": {
    "collapsed": false
   },
   "outputs": [],
   "source": [
    "wavfile.write('Superman_lento.wav', fs/2, samples)"
   ]
  },
  {
   "cell_type": "markdown",
   "metadata": {},
   "source": [
    "Agora vá na pasta onde está esse arquivo e toque a música Superman_lento.wav. Qual a mudança?<br>\n",
    "\n",
    "Exercícios: <br>\n",
    "\n",
    "1) Aumente a velocidade de reprodução em 2."
   ]
  },
  {
   "cell_type": "markdown",
   "metadata": {},
   "source": [
    "## Aumentando a velocidade de reprodução do áudio."
   ]
  },
  {
   "cell_type": "code",
   "execution_count": 4,
   "metadata": {
    "collapsed": true
   },
   "outputs": [],
   "source": [
    "##insira o código aqui."
   ]
  },
  {
   "cell_type": "markdown",
   "metadata": {},
   "source": [
    "## Invertendo o áudio.\n",
    "\n",
    "Agora iremos fazer a música tocar ao contrário. Para isso, nós apenas inverteremos nosso array de amostras. Em Python é bastante simples."
   ]
  },
  {
   "cell_type": "code",
   "execution_count": 5,
   "metadata": {
    "collapsed": true
   },
   "outputs": [],
   "source": [
    "wavfile.write('Superman_inv.wav', fs, samples[::-1])"
   ]
  },
  {
   "cell_type": "markdown",
   "metadata": {},
   "source": [
    "Execute o arquivo Superman_inv.wav que se encontra na pasta."
   ]
  },
  {
   "cell_type": "markdown",
   "metadata": {},
   "source": [
    "## Amplificando o áudio.\n",
    "\n",
    "Para amplificarmos o áudio nós faremos um escalonamento em amplitude. Iremos escalonar em 4 vezes a amplitude do sinal."
   ]
  },
  {
   "cell_type": "code",
   "execution_count": 6,
   "metadata": {
    "collapsed": true
   },
   "outputs": [],
   "source": [
    "wavfile.write('Superman_ampl.wav', fs, 4*samples)"
   ]
  },
  {
   "cell_type": "markdown",
   "metadata": {},
   "source": [
    "## Gráficos"
   ]
  },
  {
   "cell_type": "code",
   "execution_count": 7,
   "metadata": {
    "collapsed": false
   },
   "outputs": [
    {
     "ename": "TypeError",
     "evalue": "unsupported operand type(s) for /: 'int' and 'function'",
     "output_type": "error",
     "traceback": [
      "\u001b[1;31m---------------------------------------------------------------------------\u001b[0m",
      "\u001b[1;31mTypeError\u001b[0m                                 Traceback (most recent call last)",
      "\u001b[1;32m<ipython-input-7-d68fbecdddad>\u001b[0m in \u001b[0;36m<module>\u001b[1;34m()\u001b[0m\n\u001b[0;32m      2\u001b[0m \u001b[1;33m\u001b[0m\u001b[0m\n\u001b[0;32m      3\u001b[0m \u001b[1;33m\u001b[0m\u001b[0m\n\u001b[1;32m----> 4\u001b[1;33m \u001b[0mslength\u001b[0m \u001b[1;33m=\u001b[0m \u001b[0mN\u001b[0m\u001b[1;33m/\u001b[0m\u001b[0mrate\u001b[0m\u001b[1;33m;\u001b[0m\u001b[1;33m\u001b[0m\u001b[0m\n\u001b[0m\u001b[0;32m      5\u001b[0m \u001b[0mt\u001b[0m \u001b[1;33m=\u001b[0m \u001b[0mnp\u001b[0m\u001b[1;33m.\u001b[0m\u001b[0mlinspace\u001b[0m\u001b[1;33m(\u001b[0m\u001b[1;36m0\u001b[0m\u001b[1;33m,\u001b[0m \u001b[0mslength\u001b[0m\u001b[1;33m,\u001b[0m \u001b[0mnum\u001b[0m\u001b[1;33m=\u001b[0m\u001b[0mN\u001b[0m\u001b[1;33m)\u001b[0m\u001b[1;33m\u001b[0m\u001b[0m\n\u001b[0;32m      6\u001b[0m \u001b[0mplt\u001b[0m\u001b[1;33m.\u001b[0m\u001b[0msubplot\u001b[0m\u001b[1;33m(\u001b[0m\u001b[1;36m5\u001b[0m\u001b[1;33m,\u001b[0m \u001b[1;36m1\u001b[0m\u001b[1;33m,\u001b[0m \u001b[1;36m1\u001b[0m\u001b[1;33m)\u001b[0m\u001b[1;33m\u001b[0m\u001b[0m\n",
      "\u001b[1;31mTypeError\u001b[0m: unsupported operand type(s) for /: 'int' and 'function'"
     ]
    }
   ],
   "source": [
    "N = samples.shape[0]\n",
    "\n",
    "\n",
    "slength = N/fs;\n",
    "t = np.linspace(0, slength, num=N)\n",
    "plt.subplot(5, 1, 1)\n",
    "plt.plot(t, samples)\n",
    "plt.title('Sem modificacao')\n",
    "\n",
    "slength_slow = N/(fs/2);\n",
    "t_slow = np.linspace(0, slength_slow, num=N)\n",
    "plt.subplot(5, 1, 2)\n",
    "plt.plot(t_slow, samples)\n",
    "plt.title('Audio Rapido')\n",
    "\n",
    "\n",
    "slength_fast = N/(2*fs);\n",
    "t_fast = np.linspace(0, slength_fast, num=N)\n",
    "plt.subplot(5, 1, 3)\n",
    "plt.plot(t_fast, samples)\n",
    "plt.title('Audio rapido')\n",
    "\n",
    "slength_inv = N/fs;\n",
    "t_inv = np.linspace(0, slength_inv, num=N)\n",
    "plt.subplot(5, 1, 4)\n",
    "plt.plot(t_fast, samples[::-1])\n",
    "plt.title('Audio inverso')\n",
    "\n",
    "\n",
    "plt.subplot(5, 1, 5)\n",
    "plt.plot(t, 4*samples)\n",
    "plt.title('Audio amplificado')"
   ]
  },
  {
   "cell_type": "code",
   "execution_count": null,
   "metadata": {
    "collapsed": true
   },
   "outputs": [],
   "source": []
  }
 ],
 "metadata": {
  "kernelspec": {
   "display_name": "Python 2",
   "language": "python",
   "name": "python2"
  },
  "language_info": {
   "codemirror_mode": {
    "name": "ipython",
    "version": 2
   },
   "file_extension": ".py",
   "mimetype": "text/x-python",
   "name": "python",
   "nbconvert_exporter": "python",
   "pygments_lexer": "ipython2",
   "version": "2.7.10"
  }
 },
 "nbformat": 4,
 "nbformat_minor": 0
}
