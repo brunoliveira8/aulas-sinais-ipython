{
 "cells": [
  {
   "cell_type": "markdown",
   "metadata": {},
   "source": [
    "# Introdução à Sinais e Sistemas usando Scipy."
   ]
  },
  {
   "cell_type": "markdown",
   "metadata": {},
   "source": [
    "### Scipy é uma alternativa open-source ao software Matlab que usa a linguagem Python. Para mais informações acesse o site: http://www.scipy.org/"
   ]
  },
  {
   "cell_type": "markdown",
   "metadata": {},
   "source": [
    "   Essa primeira aula servirá para explicar algumas bibliotecas do Scipy, principalmente a NumPy que é utilizada para manipulação de vetores e matrizes. Além disso, abordaremos os princípios básicos de Sinais e Sistemas como as funções Impulso Unitário e Degrau, e a operção de convolução.\n"
   ]
  },
  {
   "cell_type": "markdown",
   "metadata": {},
   "source": [
    "##Função Impulso Unitário (ou Delta de Dirac)\n",
    "\n",
    "\n",
    "A função impulso unitário discreta é definida da seguinte maneira:\n",
    "\n",
    "$$ \\delta(n) =\n",
    "  \\begin{cases}\n",
    "    1       & \\quad \\text{para } n=0\\\\\n",
    "    0  & \\quad \\text{para } n \\neq 0\\\\\n",
    "  \\end{cases}\n",
    "$$\n",
    "\n",
    "\n",
    "Assim nós podemos definir nossa função delta[n] em Python."
   ]
  },
  {
   "cell_type": "code",
   "execution_count": 71,
   "metadata": {
    "collapsed": false
   },
   "outputs": [],
   "source": [
    "#define a função delta[n]\n",
    "def delta(n):\n",
    "    if n == 0:\n",
    "        return 1\n",
    "    else:\n",
    "        return 0"
   ]
  },
  {
   "cell_type": "markdown",
   "metadata": {},
   "source": [
    "Testando a função delta."
   ]
  },
  {
   "cell_type": "code",
   "execution_count": 72,
   "metadata": {
    "collapsed": false,
    "scrolled": false
   },
   "outputs": [
    {
     "name": "stdout",
     "output_type": "stream",
     "text": [
      "1\n",
      "0\n",
      "0\n"
     ]
    }
   ],
   "source": [
    "print delta(0)\n",
    "print delta(1)\n",
    "print delta(-1)"
   ]
  },
  {
   "cell_type": "markdown",
   "metadata": {},
   "source": [
    "Agora precisamos definir nosso número de amostras n. Para isso usaremos a função arrange()(http://docs.scipy.org/doc/numpy/reference/generated/numpy.arange.html) da biblioteca NumPy.\n"
   ]
  },
  {
   "cell_type": "code",
   "execution_count": 73,
   "metadata": {
    "collapsed": false,
    "scrolled": true
   },
   "outputs": [
    {
     "name": "stdout",
     "output_type": "stream",
     "text": [
      "n =  [-5 -4 -3 -2 -1  0  1  2  3  4  5]\n"
     ]
    }
   ],
   "source": [
    "import numpy as np #importa a biblioteca NumPy com o nome de np\n",
    "\n",
    "# cria um vetor com os valores -5, -4,...,5. Obs: diferente do Matlab, \n",
    "# os vetores começam pelo índice 0, assim como no C.\n",
    "n = np.arange(-5,6)\n",
    "\n",
    "print \"n = \", \n",
    "print n"
   ]
  },
  {
   "cell_type": "markdown",
   "metadata": {},
   "source": [
    "Com o número de amostras definidas, agora iremos definir a sequência impulso unitário. Primeiramente, definimos um vetor vazio com o tamanho de amostras. Depois disso, aplicamos a função delta para cada amostra."
   ]
  },
  {
   "cell_type": "code",
   "execution_count": 74,
   "metadata": {
    "collapsed": false
   },
   "outputs": [
    {
     "name": "stdout",
     "output_type": "stream",
     "text": [
      "impseq =  [0 0 0 0 0 0 0 0 0 0 0]\n",
      "impseq =  [0 0 0 0 0 1 0 0 0 0 0]\n"
     ]
    }
   ],
   "source": [
    "#importa a biblioteca NumPy com o nome np\n",
    "import numpy as np\n",
    "\n",
    "#declara um vetor com tamanho do número de amostras definidas anteriormente.\n",
    "impseq = np.empty((len(n),), dtype = int)\n",
    "\n",
    "print \"impseq = \",\n",
    "print impseq\n",
    "\n",
    "#define the values of impseq\n",
    "for i in range(len(n)):\n",
    "    impseq[i] = delta(n[i])\n",
    "\n",
    "print \"impseq = \",  \n",
    "print impseq"
   ]
  },
  {
   "cell_type": "markdown",
   "metadata": {},
   "source": [
    "Agora podemos exibir o gráfico da sequência impulso unitário. Não se preocupe com o código para gerar o gráfico agora.\n"
   ]
  },
  {
   "cell_type": "code",
   "execution_count": 75,
   "metadata": {
    "collapsed": false
   },
   "outputs": [
    {
     "name": "stdout",
     "output_type": "stream",
     "text": [
      "Populating the interactive namespace from numpy and matplotlib\n"
     ]
    },
    {
     "data": {
      "text/plain": [
       "<matplotlib.text.Text at 0x108365cd0>"
      ]
     },
     "execution_count": 75,
     "metadata": {},
     "output_type": "execute_result"
    },
    {
     "data": {
      "image/png": "[encoded data removed]",
      "text/plain": [
       "<matplotlib.figure.Figure at 0x10777d610>"
      ]
     },
     "metadata": {},
     "output_type": "display_data"
    }
   ],
   "source": [
    "#esse comando faz os gráficos aparecerem direto na tela\n",
    "%pylab inline\n",
    "\n",
    "#importa biblioteca utilizada para imprimir gráficos\n",
    "import pylab as pl\n",
    "\n",
    "#exibe gráfico\n",
    "pl.figure(1)\n",
    "markerline, stemlines, baseline = pl.stem(n,impseq,linefmt='b')\n",
    "pl.axis([-5,4,-2,2])\n",
    "pl.grid()\n",
    "pl.setp(stemlines, 'linewidth','2.0')\n",
    "pl.xlabel('n')\n",
    "pl.ylabel(r'$\\delta$=[n]')\n",
    "pl.title('Sequencia Impulso Unitario')"
   ]
  },
  {
   "cell_type": "markdown",
   "metadata": {},
   "source": [
    "Exercícios:\n",
    "\n",
    "1) Edite o código para criar uma sequência impulso unitário deslocado de uma amostra para direita.\n",
    "2) Edite o código para criar uma sequência impulso unitário de amplitude dois."
   ]
  },
  {
   "cell_type": "markdown",
   "metadata": {},
   "source": [
    "##Função Degrau Unitário\n",
    "\n",
    "A função degrau unitário é definida da seguinte forma: \n",
    "    $$ u(n) =\n",
    "  \\begin{cases}\n",
    "    1       & \\quad \\text{para } n \\ge 0\\\\\n",
    "    0  & \\quad \\text{para } n <  0\\\\\n",
    "  \\end{cases}\n",
    "    $$\n",
    "\n",
    "Em Python nós temos."
   ]
  },
  {
   "cell_type": "code",
   "execution_count": 76,
   "metadata": {
    "collapsed": false
   },
   "outputs": [
    {
     "name": "stdout",
     "output_type": "stream",
     "text": [
      "u[n] = [0 0 0 0 0 1 1 1 1 1 1]\n"
     ]
    },
    {
     "data": {
      "text/plain": [
       "<matplotlib.text.Text at 0x10848f090>"
      ]
     },
     "execution_count": 76,
     "metadata": {},
     "output_type": "execute_result"
    },
    {
     "data": {
      "image/png": "[encoded data removed]",
      "text/plain": [
       "<matplotlib.figure.Figure at 0x1077c9bd0>"
      ]
     },
     "metadata": {},
     "output_type": "display_data"
    }
   ],
   "source": [
    "#define a função u[n]\n",
    "def u(n):\n",
    "    if n < 0:\n",
    "        return 0\n",
    "    return 1\n",
    "\n",
    "#declara um vetor vazio com o tamanho do numero de amostras\n",
    "stepseq = np.empty((len(n),), dtype = int)\n",
    "\n",
    "#define os valores da sequência degrau unitário.\n",
    "for i in range(len(n)):\n",
    "    stepseq[i] = u(n[i])\n",
    "\n",
    "print \"u[n] =\",\n",
    "print stepseq\n",
    "\n",
    "#define os valores da sequência degrau unitário\n",
    "for i in range(len(n)):\n",
    "    stepseq[i] = u(n[i])\n",
    "\n",
    "#exibe o gráfico\n",
    "markerline, stemlines, baseline = pl.stem(n,stepseq,linefmt='b')\n",
    "pl.axis([-5,6,-2,2])\n",
    "pl.grid()\n",
    "pl.setp(stemlines, 'linewidth','2.0')\n",
    "pl.xlabel('n')\n",
    "pl.ylabel('u[n]')\n",
    "pl.title('Sequencia Degrau Unitario')"
   ]
  },
  {
   "cell_type": "markdown",
   "metadata": {},
   "source": [
    "##Convolução"
   ]
  }
 ],
 "metadata": {
  "kernelspec": {
   "display_name": "Python 2",
   "language": "python",
   "name": "python2"
  },
  "language_info": {
   "codemirror_mode": {
    "name": "ipython",
    "version": 2
   },
   "file_extension": ".py",
   "mimetype": "text/x-python",
   "name": "python",
   "nbconvert_exporter": "python",
   "pygments_lexer": "ipython2",
   "version": "2.7.10"
  }
 },
 "nbformat": 4,
 "nbformat_minor": 0
}
